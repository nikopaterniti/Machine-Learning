{
 "cells": [
  {
   "attachments": {},
   "cell_type": "markdown",
   "metadata": {},
   "source": [
    "\n",
    "# <font color=red> <u>ML_CUP</u>: <br> &#x2022; **Support Vector Machine: *SVR model*  - with *grid_search*  </font>** <br>\n",
    "\n",
    "The SVR(Support Vector Regression) model select the **best decision boundary** to separate the data in the hyperplane.\n",
    "SVM represents the decision boundary using a subset of the training examples, known as the **support vectors**."
   ]
  },
  {
   "attachments": {},
   "cell_type": "markdown",
   "metadata": {},
   "source": [
    "init del cup dataset:"
   ]
  },
  {
   "cell_type": "code",
   "execution_count": 1,
   "metadata": {},
   "outputs": [],
   "source": [
    "import pandas as pd\n",
    "from sklearn.metrics import accuracy_score\n",
    "from sklearn.model_selection import train_test_split\n",
    "from sklearn.preprocessing import StandardScaler\n",
    "from sklearn.model_selection import GridSearchCV, RandomizedSearchCV\n",
    "from sklearn.metrics import classification_report, make_scorer\n",
    "from sklearn.svm import SVC\n",
    "from sklearn.pipeline import Pipeline\n",
    "from sklearn.preprocessing import StandardScaler\n",
    "from sklearn.svm import SVR\n",
    "from sklearn.multioutput import MultiOutputRegressor\n",
    "from sklearn.metrics import mean_absolute_error, mean_squared_error\n",
    "import numpy as np\n",
    "from numpy.linalg import norm\n",
    "import math\n",
    "import seaborn as sns\n",
    "import matplotlib.pyplot as plt\n",
    "from sklearn.metrics import make_scorer\n",
    "\n",
    "from utils_cup_svm_svr import * #custom module  works with 3.9.xx\n",
    "\n",
    "\n",
    "#UTILITIES FUNCTIONS\n",
    "def get_cup_df(num, train=True):\n",
    "    data_type = \"TR.csv\" if train else \"TS.csv\"\n",
    "    path = cup_path+str(num)+'.'+data_type\n",
    "\n",
    "    columns = [\"id\", \"a1\", \"a2\", \"a3\", \"a4\", \"a5\", \"a6\",\"a7\",\"a8\",\"a9\",\"output1\",\"output2\"]\n",
    "    # skipping first 7 rows as they are comments and not actual data\n",
    "    df = pd.read_csv(path, names=columns, delimiter=\" \")\n",
    "\n",
    "    df = df.drop('id', axis='columns')\n",
    "    #df = df.drop(\"monk_id\", axis='columns')\n",
    "    return pd.get_dummies(df, columns=df.columns[1:])\n",
    "\n",
    "\n",
    "def MEE(y_true,y_pred,mean=True):\n",
    "    assert y_pred.shape == y_true.shape, 'x and y must have same shape'\n",
    "    length = y_pred.shape[0] #lunghezza RIGHE\n",
    "    total = 0\n",
    "\n",
    "    for i in range(length):\n",
    "        term_one = abs( y_pred[i][0] - y_true[i][0] )\n",
    "        term_two = abs( y_pred[i][1] - y_true[i][1] )\n",
    "     \n",
    "        result_in_sqrt = (term_one ** 2) + (term_two ** 2)\n",
    "        result_sqrt = math.sqrt(result_in_sqrt)\n",
    "\n",
    "        total = total + result_sqrt\n",
    "\n",
    "    return total/length\n",
    "\n",
    "def print_stats_gs(grid_search):\n",
    "    print('Best setting parameters: ',grid_search.best_params_)\n",
    "    print('Best SCORE di MEE: ',grid_search.best_score_)\n",
    "    print('\\nMEDIO VALORE MEE su CV: ', grid_search.cv_results_['mean_test_score'][0], \n",
    "    '\\nStandard Deviation (std) of this setting: ', grid_search.cv_results_['std_test_score'][0])\n",
    "    \n",
    "def get_mae_mee_mse_from_gridsearch(grid_search,Y,Y_pred):\n",
    "    mee = MEE(Y,Y_pred)\n",
    "    #accuracy = accuracy_score(Y_internal_tr,Y_pred)\n",
    "    mae = mean_absolute_error(Y,Y_pred)\n",
    "    mse = np.sqrt(mean_squared_error(Y, Y_pred))\n",
    "\n",
    "    return mae, mse, mee\n",
    "\n",
    "\n",
    "custom_mee_scorer = make_scorer(MEE,greater_is_better=False)"
   ]
  },
  {
   "attachments": {},
   "cell_type": "markdown",
   "metadata": {},
   "source": [
    "------"
   ]
  },
  {
   "attachments": {},
   "cell_type": "markdown",
   "metadata": {},
   "source": [
    "## Dataset preparation:"
   ]
  },
  {
   "cell_type": "code",
   "execution_count": 2,
   "metadata": {},
   "outputs": [],
   "source": [
    "cup_path = 'datasets/ML-CUP22-'\n",
    "\n",
    "columns = [\"id\", \"a1\", \"a2\", \"a3\", \"a4\", \"a5\", \"a6\",\"a7\",\"a8\",\"a9\",\"output1\",\"output2\"]\n",
    "df_cup_tr = pd.read_csv(cup_path+\"TR.csv\",comment='#', index_col=0, sep=',',names=columns) #12 colonne, di cui 1 id e ultime 2 output\n",
    "df_cup_tr.head()\n",
    "df_cup_tr.shape\n",
    "\n",
    "X = df_cup_tr.iloc[:, 0:9].values\n",
    "Y = df_cup_tr.iloc[:, 9:11].values\n",
    "\n",
    "#design set - 80% training, 20% testing\n",
    "X_internal_tr, X_int_test, Y_internal_tr, Y_int_test = train_test_split(X, Y, test_size=0.2, train_size=0.8,random_state=72,shuffle=True)"
   ]
  },
  {
   "attachments": {},
   "cell_type": "markdown",
   "metadata": {},
   "source": [
    "# **<font color=#33ECFF> 1. Kernel 'RBF' <br> &#x2022; PARAMS: C, gamma,epsilon<font>**"
   ]
  },
  {
   "cell_type": "code",
   "execution_count": 3,
   "metadata": {},
   "outputs": [
    {
     "name": "stdout",
     "output_type": "stream",
     "text": [
      "Best setting parameters:  {'estimator__C': 10, 'estimator__epsilon': 0.001, 'estimator__gamma': 'auto', 'estimator__kernel': 'rbf'}\n",
      "Best MEE validation score:  -1.4653643394886358\n",
      "\n",
      "VERO MEE - Mean of this setting:  -1.9740710010349978 \n",
      "Standard Deviation (std) of this setting:  0.126259645754078\n"
     ]
    }
   ],
   "source": [
    "kernel=['rbf']\n",
    "C_list=[0.1,1,10,100,1000]\n",
    "gamma_list= [\"auto\", \"scale\"]\n",
    "epsilon_list=[0.001]\n",
    "\n",
    "svr_model= SVR()\n",
    "\n",
    "param_grid = {'estimator__kernel' : kernel,\n",
    "            'estimator__C' : C_list,\n",
    "            'estimator__gamma' : ('auto','scale'),\n",
    "            'estimator__epsilon': epsilon_list}\n",
    "\n",
    "grid_search = GridSearchCV(MultiOutputRegressor(svr_model), \n",
    "                        param_grid = param_grid,\n",
    "                        n_jobs=-1,\n",
    "                        scoring=custom_mee_scorer,\n",
    "                        verbose=0)\n",
    "\n",
    "\n",
    "grid_search.fit(X_internal_tr, Y_internal_tr)\n",
    "Y_pred = grid_search.predict(X_internal_tr)\n",
    "\n",
    "print('Best setting parameters: ',grid_search.best_params_)\n",
    "print('Best MEE validation score: ',grid_search.best_score_)\n",
    "print('\\nVERO MEE - Mean of this setting: ', grid_search.cv_results_['mean_test_score'][0], '\\nStandard Deviation (std) of this setting: ', grid_search.cv_results_['std_test_score'][0])"
   ]
  },
  {
   "attachments": {},
   "cell_type": "markdown",
   "metadata": {},
   "source": [
    "-----"
   ]
  },
  {
   "attachments": {},
   "cell_type": "markdown",
   "metadata": {},
   "source": [
    "## **<font color=#33ECFF> 1.1.1 - RBF: <u>Results</u> HP e wrt <u>VALIDATION SET</u> by GridSearchCV</u></font>**"
   ]
  },
  {
   "cell_type": "code",
   "execution_count": 4,
   "metadata": {},
   "outputs": [
    {
     "name": "stdout",
     "output_type": "stream",
     "text": [
      "BEST HYPERPARAMETERS SETTINGS AND MEE in Validation:\n"
     ]
    },
    {
     "data": {
      "text/html": [
       "<div>\n",
       "<style scoped>\n",
       "    .dataframe tbody tr th:only-of-type {\n",
       "        vertical-align: middle;\n",
       "    }\n",
       "\n",
       "    .dataframe tbody tr th {\n",
       "        vertical-align: top;\n",
       "    }\n",
       "\n",
       "    .dataframe thead th {\n",
       "        text-align: right;\n",
       "    }\n",
       "</style>\n",
       "<table border=\"1\" class=\"dataframe\">\n",
       "  <thead>\n",
       "    <tr style=\"text-align: right;\">\n",
       "      <th></th>\n",
       "      <th>KERNEL</th>\n",
       "      <th>C</th>\n",
       "      <th>EPS</th>\n",
       "      <th>GAMMA</th>\n",
       "      <th>BEST MEE_Validation</th>\n",
       "      <th>MEAN MEE_Validation</th>\n",
       "      <th>STD_Validation</th>\n",
       "    </tr>\n",
       "  </thead>\n",
       "  <tbody>\n",
       "    <tr>\n",
       "      <th>0</th>\n",
       "      <td>rbf</td>\n",
       "      <td>10</td>\n",
       "      <td>0.001</td>\n",
       "      <td>auto</td>\n",
       "      <td>-1.465364</td>\n",
       "      <td>-1.974071</td>\n",
       "      <td>0.12626</td>\n",
       "    </tr>\n",
       "  </tbody>\n",
       "</table>\n",
       "</div>"
      ],
      "text/plain": [
       "  KERNEL   C    EPS GAMMA  BEST MEE_Validation  MEAN MEE_Validation  \\\n",
       "0    rbf  10  0.001  auto            -1.465364            -1.974071   \n",
       "\n",
       "   STD_Validation  \n",
       "0         0.12626  "
      ]
     },
     "execution_count": 4,
     "metadata": {},
     "output_type": "execute_result"
    }
   ],
   "source": [
    "col = [\"KERNEL\",\"C\",\"EPS\",\"GAMMA\",\"BEST MEE_Validation\",\"MEAN MEE_Validation\",\"STD_Validation\"]\n",
    "\n",
    "best_C, best_eps, best_gamma = extract_best_hp_rbf(grid_search)\n",
    "best_kernel = grid_search.best_params_[\"estimator__kernel\"]\n",
    "row = [best_kernel,best_C,best_eps,best_gamma,grid_search.best_score_,grid_search.cv_results_['mean_test_score'][0],grid_search.cv_results_['std_test_score'][0]]\n",
    "\n",
    "rbf_df_best_res_validation = pd.DataFrame(columns=col)\n",
    "rbf_df_best_res_validation.loc[len(rbf_df_best_res_validation)] = row\n",
    "\n",
    "print(\"BEST HYPERPARAMETERS SETTINGS AND MEE in Validation:\")\n",
    "rbf_df_best_res_validation"
   ]
  },
  {
   "attachments": {},
   "cell_type": "markdown",
   "metadata": {},
   "source": [
    "## **<font color=#33ECFF> 1.1.2 - RBF: METRICS wrt <u>TRAINING SET</u></font>**"
   ]
  },
  {
   "attachments": {},
   "cell_type": "markdown",
   "metadata": {},
   "source": [
    "We have also investigated the behaviour of the model on the training set:"
   ]
  },
  {
   "cell_type": "code",
   "execution_count": 5,
   "metadata": {},
   "outputs": [
    {
     "name": "stdout",
     "output_type": "stream",
     "text": [
      "BEST HYPERPARAMETERS SETTINGS AND METRICS IN SVR MODEL by GridSearchCV between all parameters provided:\n"
     ]
    },
    {
     "data": {
      "text/html": [
       "<div>\n",
       "<style scoped>\n",
       "    .dataframe tbody tr th:only-of-type {\n",
       "        vertical-align: middle;\n",
       "    }\n",
       "\n",
       "    .dataframe tbody tr th {\n",
       "        vertical-align: top;\n",
       "    }\n",
       "\n",
       "    .dataframe thead th {\n",
       "        text-align: right;\n",
       "    }\n",
       "</style>\n",
       "<table border=\"1\" class=\"dataframe\">\n",
       "  <thead>\n",
       "    <tr style=\"text-align: right;\">\n",
       "      <th></th>\n",
       "      <th>KERNEL</th>\n",
       "      <th>C</th>\n",
       "      <th>EPS</th>\n",
       "      <th>GAMMA</th>\n",
       "      <th>MAE</th>\n",
       "      <th>MSE</th>\n",
       "      <th>MEE</th>\n",
       "    </tr>\n",
       "  </thead>\n",
       "  <tbody>\n",
       "    <tr>\n",
       "      <th>0</th>\n",
       "      <td>rbf</td>\n",
       "      <td>10</td>\n",
       "      <td>0.001</td>\n",
       "      <td>auto</td>\n",
       "      <td>0.702076</td>\n",
       "      <td>1.162326</td>\n",
       "      <td>1.167264</td>\n",
       "    </tr>\n",
       "  </tbody>\n",
       "</table>\n",
       "</div>"
      ],
      "text/plain": [
       "  KERNEL   C    EPS GAMMA       MAE       MSE       MEE\n",
       "0    rbf  10  0.001  auto  0.702076  1.162326  1.167264"
      ]
     },
     "execution_count": 5,
     "metadata": {},
     "output_type": "execute_result"
    }
   ],
   "source": [
    "\n",
    "mee = MEE(Y_pred,Y_internal_tr) #(y_test,y_pred)\n",
    "mae = mean_absolute_error(Y_internal_tr,Y_pred)\n",
    "mse = np.sqrt(mean_squared_error(Y_internal_tr, Y_pred))\n",
    "metrics_results = [mae, mse, mee]\n",
    "\n",
    "best_C, best_eps, best_gamma = extract_best_hp_rbf(grid_search)\n",
    "best_kernel = grid_search.best_params_[\"estimator__kernel\"]\n",
    "\n",
    "new_res = [best_kernel,best_C,best_eps,best_gamma,mae,mse,mee]\n",
    "new_col = [\"KERNEL\",\"C\",\"EPS\",\"GAMMA\",\"MAE\",\"MSE\",\"MEE\"]\n",
    "\n",
    "#df.loc[len(df)] = list_row - esempio di come si aggiunge una riga ad un df   \n",
    "df_best_grid_all_param = pd.DataFrame(columns=new_col)\n",
    "df_best_grid_all_param.loc[len(df_best_grid_all_param)] = new_res\n",
    "\n",
    "print(\"BEST HYPERPARAMETERS SETTINGS AND METRICS IN SVR MODEL by GridSearchCV between all parameters provided:\")\n",
    "df_best_grid_all_param\n"
   ]
  },
  {
   "attachments": {},
   "cell_type": "markdown",
   "metadata": {},
   "source": [
    " # **<font color=#33ECFF> 1.2 RBF Plot: Investigation when varying C on *training set* </font>**"
   ]
  },
  {
   "attachments": {},
   "cell_type": "markdown",
   "metadata": {},
   "source": [
    "We investigated the behaviour of the model when varying C."
   ]
  },
  {
   "cell_type": "code",
   "execution_count": 6,
   "metadata": {},
   "outputs": [],
   "source": [
    "def run_gs_on_C_rbf(kernel,C_list,epsilon_list,gamma_list):\n",
    "    svr_model= SVR()\n",
    "    new_col = [\"C\",\"EPS\",\"GAMMA\",   \"MAE\",\"MSE\",\"MEE\"]\n",
    "    df_temp = pd.DataFrame(columns=new_col)\n",
    "\n",
    "    for c_val in C_list:\n",
    "        list = [c_val]\n",
    "        param_grid = {'estimator__kernel' : kernel,\n",
    "            'estimator__C' : list,\n",
    "            'estimator__gamma' : ('auto','scale'),\n",
    "            'estimator__epsilon': epsilon_list}\n",
    "\n",
    "        grid_search = GridSearchCV(MultiOutputRegressor(svr_model), \n",
    "                        param_grid = param_grid,\n",
    "                        n_jobs=2,\n",
    "                        scoring=custom_mee_scorer,\n",
    "                        verbose=0)\n",
    "\n",
    "        grid_search.fit(X_internal_tr, Y_internal_tr)\n",
    "        Y_pred = grid_search.predict(X_internal_tr)\n",
    "\n",
    "        best_C, best_eps, best_gamma = extract_best_hp_rbf(grid_search)\n",
    "        mae,mse,mee = get_mae_mee_mse_from_gridsearch(grid_search,Y=Y_internal_tr,Y_pred=Y_pred)\n",
    "\n",
    "        new_res = [best_C,best_eps,best_gamma,mae,mse,mee]\n",
    "        df_temp.loc[len(df_temp)] = new_res\n",
    "    \n",
    "    return df_temp\n",
    "\n",
    "\n",
    "#EXECUTION\n",
    "C_values_list=[0.1,1,10,100,1000]\n",
    "df_on_C_rbf = run_gs_on_C_rbf(kernel=[\"rbf\"],C_list=C_values_list, epsilon_list=epsilon_list,gamma_list=gamma_list)"
   ]
  },
  {
   "cell_type": "code",
   "execution_count": 7,
   "metadata": {},
   "outputs": [
    {
     "data": {
      "text/html": [
       "<div>\n",
       "<style scoped>\n",
       "    .dataframe tbody tr th:only-of-type {\n",
       "        vertical-align: middle;\n",
       "    }\n",
       "\n",
       "    .dataframe tbody tr th {\n",
       "        vertical-align: top;\n",
       "    }\n",
       "\n",
       "    .dataframe thead th {\n",
       "        text-align: right;\n",
       "    }\n",
       "</style>\n",
       "<table border=\"1\" class=\"dataframe\">\n",
       "  <thead>\n",
       "    <tr style=\"text-align: right;\">\n",
       "      <th></th>\n",
       "      <th>C</th>\n",
       "      <th>EPS</th>\n",
       "      <th>GAMMA</th>\n",
       "      <th>MAE</th>\n",
       "      <th>MSE</th>\n",
       "      <th>MEE</th>\n",
       "    </tr>\n",
       "  </thead>\n",
       "  <tbody>\n",
       "    <tr>\n",
       "      <th>4</th>\n",
       "      <td>1000.0</td>\n",
       "      <td>0.001</td>\n",
       "      <td>auto</td>\n",
       "      <td>0.322617</td>\n",
       "      <td>0.787833</td>\n",
       "      <td>0.556980</td>\n",
       "    </tr>\n",
       "    <tr>\n",
       "      <th>3</th>\n",
       "      <td>100.0</td>\n",
       "      <td>0.001</td>\n",
       "      <td>auto</td>\n",
       "      <td>0.534217</td>\n",
       "      <td>1.015934</td>\n",
       "      <td>0.903183</td>\n",
       "    </tr>\n",
       "    <tr>\n",
       "      <th>2</th>\n",
       "      <td>10.0</td>\n",
       "      <td>0.001</td>\n",
       "      <td>auto</td>\n",
       "      <td>0.702076</td>\n",
       "      <td>1.162326</td>\n",
       "      <td>1.167264</td>\n",
       "    </tr>\n",
       "    <tr>\n",
       "      <th>1</th>\n",
       "      <td>1.0</td>\n",
       "      <td>0.001</td>\n",
       "      <td>auto</td>\n",
       "      <td>0.841865</td>\n",
       "      <td>1.279638</td>\n",
       "      <td>1.370884</td>\n",
       "    </tr>\n",
       "    <tr>\n",
       "      <th>0</th>\n",
       "      <td>0.1</td>\n",
       "      <td>0.001</td>\n",
       "      <td>auto</td>\n",
       "      <td>1.111286</td>\n",
       "      <td>1.632957</td>\n",
       "      <td>1.827651</td>\n",
       "    </tr>\n",
       "  </tbody>\n",
       "</table>\n",
       "</div>"
      ],
      "text/plain": [
       "        C    EPS GAMMA       MAE       MSE       MEE\n",
       "4  1000.0  0.001  auto  0.322617  0.787833  0.556980\n",
       "3   100.0  0.001  auto  0.534217  1.015934  0.903183\n",
       "2    10.0  0.001  auto  0.702076  1.162326  1.167264\n",
       "1     1.0  0.001  auto  0.841865  1.279638  1.370884\n",
       "0     0.1  0.001  auto  1.111286  1.632957  1.827651"
      ]
     },
     "execution_count": 7,
     "metadata": {},
     "output_type": "execute_result"
    }
   ],
   "source": [
    "df_on_C_rbf.sort_values(by=['MEE'])"
   ]
  },
  {
   "cell_type": "code",
   "execution_count": 8,
   "metadata": {},
   "outputs": [
    {
     "data": {
      "text/html": [
       "<div>\n",
       "<style scoped>\n",
       "    .dataframe tbody tr th:only-of-type {\n",
       "        vertical-align: middle;\n",
       "    }\n",
       "\n",
       "    .dataframe tbody tr th {\n",
       "        vertical-align: top;\n",
       "    }\n",
       "\n",
       "    .dataframe thead th {\n",
       "        text-align: right;\n",
       "    }\n",
       "</style>\n",
       "<table border=\"1\" class=\"dataframe\">\n",
       "  <thead>\n",
       "    <tr style=\"text-align: right;\">\n",
       "      <th></th>\n",
       "      <th>C</th>\n",
       "      <th>EPS</th>\n",
       "      <th>GAMMA</th>\n",
       "      <th>MAE</th>\n",
       "      <th>MSE</th>\n",
       "      <th>MEE</th>\n",
       "    </tr>\n",
       "  </thead>\n",
       "  <tbody>\n",
       "    <tr>\n",
       "      <th>0</th>\n",
       "      <td>0.1</td>\n",
       "      <td>0.001</td>\n",
       "      <td>auto</td>\n",
       "      <td>1.111286</td>\n",
       "      <td>1.632957</td>\n",
       "      <td>1.827651</td>\n",
       "    </tr>\n",
       "  </tbody>\n",
       "</table>\n",
       "</div>"
      ],
      "text/plain": [
       "     C    EPS GAMMA       MAE       MSE       MEE\n",
       "0  0.1  0.001  auto  1.111286  1.632957  1.827651"
      ]
     },
     "execution_count": 8,
     "metadata": {},
     "output_type": "execute_result"
    },
    {
     "data": {
      "image/png": "[encoded data removed]",
      "text/plain": [
       "<Figure size 640x480 with 1 Axes>"
      ]
     },
     "metadata": {},
     "output_type": "display_data"
    }
   ],
   "source": [
    "ax = df_on_C_rbf.plot(x='C', y='MEE', linestyle='--', title=\"Metrics wrt MEE,MAE,MSE\")\n",
    "df_on_C_rbf.plot(ax=ax,x='C', y='MSE')\n",
    "df_on_C_rbf.plot(ax=ax,x='C', y='MAE', linestyle='dotted')\n",
    "df_on_C_rbf.sort_values(by=['C']).head(1)"
   ]
  },
  {
   "attachments": {},
   "cell_type": "markdown",
   "metadata": {},
   "source": [
    "# **<font color=#33ECFF> 2. Kernel 'Poly' <br> &#x2022; PARAMS: C,epsilon, coef0, degree<font>**"
   ]
  },
  {
   "cell_type": "code",
   "execution_count": 9,
   "metadata": {},
   "outputs": [
    {
     "name": "stdout",
     "output_type": "stream",
     "text": [
      "Best setting parameters:  {'estimator__C': 0.1, 'estimator__coef0': 1.5, 'estimator__degree': 5, 'estimator__epsilon': 0.01, 'estimator__kernel': 'poly'}\n",
      "Best SCORE di MEE:  -1.5073710364560526\n",
      "\n",
      "MEDIO VALORE MEE su CV:  -1.8384955770924378 \n",
      "Standard Deviation (std) of this setting:  0.0788396672571087\n"
     ]
    }
   ],
   "source": [
    "kernel=['poly']\n",
    "C_list=[0.1,0.5,1,2,5]\n",
    "epsilon_list=[0.01]\n",
    "coeff_list=[0.5,1.0,1.5]\n",
    "degree_list = [2,3,4,5]\n",
    "\n",
    "svr_model= SVR()\n",
    "param_grid = {'estimator__kernel' : kernel,\n",
    "            'estimator__C' : C_list,\n",
    "            'estimator__epsilon': epsilon_list,\n",
    "            'estimator__coef0': coeff_list,\n",
    "            'estimator__degree': degree_list}\n",
    "\n",
    "grid_search_poly = GridSearchCV(MultiOutputRegressor(svr_model), \n",
    "                        param_grid = param_grid,\n",
    "                        n_jobs=2,\n",
    "                        scoring=custom_mee_scorer,\n",
    "                        verbose=0)\n",
    "\n",
    "grid_search_poly.fit(X_internal_tr, Y_internal_tr)\n",
    "Y_pred_poly = grid_search_poly.predict(X_internal_tr)\n",
    "\n",
    "print_stats_gs(grid_search=grid_search_poly)"
   ]
  },
  {
   "attachments": {},
   "cell_type": "markdown",
   "metadata": {},
   "source": [
    "## **<font color=#33ECFF> 2.1.1 - POLY: <u>Results</u> HP e wrt <u>VALIDATION SET</u> by GridSearchCV</u></font>**"
   ]
  },
  {
   "cell_type": "code",
   "execution_count": 10,
   "metadata": {},
   "outputs": [
    {
     "name": "stdout",
     "output_type": "stream",
     "text": [
      "BEST HYPERPARAMETERS SETTINGS AND MEE in Validation:\n"
     ]
    },
    {
     "data": {
      "text/html": [
       "<div>\n",
       "<style scoped>\n",
       "    .dataframe tbody tr th:only-of-type {\n",
       "        vertical-align: middle;\n",
       "    }\n",
       "\n",
       "    .dataframe tbody tr th {\n",
       "        vertical-align: top;\n",
       "    }\n",
       "\n",
       "    .dataframe thead th {\n",
       "        text-align: right;\n",
       "    }\n",
       "</style>\n",
       "<table border=\"1\" class=\"dataframe\">\n",
       "  <thead>\n",
       "    <tr style=\"text-align: right;\">\n",
       "      <th></th>\n",
       "      <th>KERNEL</th>\n",
       "      <th>C</th>\n",
       "      <th>EPS</th>\n",
       "      <th>COEF0</th>\n",
       "      <th>DEGREE</th>\n",
       "      <th>BEST MEE</th>\n",
       "      <th>MEE_Validation</th>\n",
       "      <th>STD_Validation</th>\n",
       "    </tr>\n",
       "  </thead>\n",
       "  <tbody>\n",
       "    <tr>\n",
       "      <th>1</th>\n",
       "      <td>poly</td>\n",
       "      <td>0.1</td>\n",
       "      <td>0.01</td>\n",
       "      <td>1.5</td>\n",
       "      <td>5</td>\n",
       "      <td>-1.507371</td>\n",
       "      <td>-1.838496</td>\n",
       "      <td>0.07884</td>\n",
       "    </tr>\n",
       "  </tbody>\n",
       "</table>\n",
       "</div>"
      ],
      "text/plain": [
       "  KERNEL    C   EPS  COEF0  DEGREE  BEST MEE  MEE_Validation  STD_Validation\n",
       "1   poly  0.1  0.01    1.5       5 -1.507371       -1.838496         0.07884"
      ]
     },
     "execution_count": 10,
     "metadata": {},
     "output_type": "execute_result"
    }
   ],
   "source": [
    "col = [\"KERNEL\",\"C\",\"EPS\",\"COEF0\",\"DEGREE\",\"BEST MEE\",\"MEE_Validation\",\"STD_Validation\"]\n",
    "best_C, best_coef0, best_degree,best_eps = extract_best_hp_poly(grid_search_poly)\n",
    "row = ['poly',best_C,best_eps,best_coef0, best_degree,grid_search_poly.best_score_,grid_search_poly.cv_results_['mean_test_score'][0],grid_search_poly.cv_results_['std_test_score'][0]]\n",
    "\n",
    "poly_df_best_res_validation = pd.DataFrame(columns=col)\n",
    "poly_df_best_res_validation.loc[len(rbf_df_best_res_validation)] = row\n",
    "\n",
    "print(\"BEST HYPERPARAMETERS SETTINGS AND MEE in Validation:\")\n",
    "poly_df_best_res_validation"
   ]
  },
  {
   "attachments": {},
   "cell_type": "markdown",
   "metadata": {},
   "source": [
    "## **<font color=#33ECFF> 2.1.2 - RBF: Metrics wrt TRAINING SET</font>**"
   ]
  },
  {
   "cell_type": "code",
   "execution_count": 11,
   "metadata": {},
   "outputs": [
    {
     "data": {
      "text/html": [
       "<div>\n",
       "<style scoped>\n",
       "    .dataframe tbody tr th:only-of-type {\n",
       "        vertical-align: middle;\n",
       "    }\n",
       "\n",
       "    .dataframe tbody tr th {\n",
       "        vertical-align: top;\n",
       "    }\n",
       "\n",
       "    .dataframe thead th {\n",
       "        text-align: right;\n",
       "    }\n",
       "</style>\n",
       "<table border=\"1\" class=\"dataframe\">\n",
       "  <thead>\n",
       "    <tr style=\"text-align: right;\">\n",
       "      <th></th>\n",
       "      <th>C</th>\n",
       "      <th>EPS</th>\n",
       "      <th>COEF0</th>\n",
       "      <th>DEGREE</th>\n",
       "      <th>MAE</th>\n",
       "      <th>MSE</th>\n",
       "      <th>MEE</th>\n",
       "    </tr>\n",
       "  </thead>\n",
       "  <tbody>\n",
       "    <tr>\n",
       "      <th>0</th>\n",
       "      <td>0.1</td>\n",
       "      <td>0.01</td>\n",
       "      <td>1.5</td>\n",
       "      <td>5.0</td>\n",
       "      <td>0.755731</td>\n",
       "      <td>1.212558</td>\n",
       "      <td>1.246362</td>\n",
       "    </tr>\n",
       "  </tbody>\n",
       "</table>\n",
       "</div>"
      ],
      "text/plain": [
       "     C   EPS  COEF0  DEGREE       MAE       MSE       MEE\n",
       "0  0.1  0.01    1.5     5.0  0.755731  1.212558  1.246362"
      ]
     },
     "execution_count": 11,
     "metadata": {},
     "output_type": "execute_result"
    }
   ],
   "source": [
    "best_C, best_coef0, best_degree,best_eps = extract_best_hp_poly(grid_search_poly)\n",
    "mae,mse,mee = get_mae_mee_mse_from_gridsearch(grid_search_poly,Y=Y_internal_tr,Y_pred=Y_pred_poly)\n",
    "\n",
    "new_res = [best_C,best_eps,best_coef0,best_degree,mae,mse,mee]\n",
    "new_col = [\"C\",\"EPS\",\"COEF0\",\"DEGREE\",\"MAE\",\"MSE\",\"MEE\"]\n",
    "    \n",
    "df_best_grid_poly = pd.DataFrame(columns=new_col)\n",
    "df_best_grid_poly.loc[len(df_best_grid_poly)] = new_res\n",
    "\n",
    "df_best_grid_poly"
   ]
  },
  {
   "attachments": {},
   "cell_type": "markdown",
   "metadata": {},
   "source": [
    " # **<font color=#33ECFF> 2.2 POLY Plot: Investigation when varying C on *training set* </font>**"
   ]
  },
  {
   "cell_type": "code",
   "execution_count": 12,
   "metadata": {},
   "outputs": [
    {
     "data": {
      "text/html": [
       "<div>\n",
       "<style scoped>\n",
       "    .dataframe tbody tr th:only-of-type {\n",
       "        vertical-align: middle;\n",
       "    }\n",
       "\n",
       "    .dataframe tbody tr th {\n",
       "        vertical-align: top;\n",
       "    }\n",
       "\n",
       "    .dataframe thead th {\n",
       "        text-align: right;\n",
       "    }\n",
       "</style>\n",
       "<table border=\"1\" class=\"dataframe\">\n",
       "  <thead>\n",
       "    <tr style=\"text-align: right;\">\n",
       "      <th></th>\n",
       "      <th>C</th>\n",
       "      <th>EPS</th>\n",
       "      <th>COEF0</th>\n",
       "      <th>DEGREE</th>\n",
       "      <th>MAE</th>\n",
       "      <th>MSE</th>\n",
       "      <th>MEE</th>\n",
       "    </tr>\n",
       "  </thead>\n",
       "  <tbody>\n",
       "    <tr>\n",
       "      <th>4</th>\n",
       "      <td>5.0</td>\n",
       "      <td>0.01</td>\n",
       "      <td>0.5</td>\n",
       "      <td>4.0</td>\n",
       "      <td>0.695579</td>\n",
       "      <td>1.157205</td>\n",
       "      <td>1.150079</td>\n",
       "    </tr>\n",
       "    <tr>\n",
       "      <th>3</th>\n",
       "      <td>2.0</td>\n",
       "      <td>0.01</td>\n",
       "      <td>0.5</td>\n",
       "      <td>4.0</td>\n",
       "      <td>0.740561</td>\n",
       "      <td>1.200557</td>\n",
       "      <td>1.222970</td>\n",
       "    </tr>\n",
       "    <tr>\n",
       "      <th>2</th>\n",
       "      <td>1.0</td>\n",
       "      <td>0.01</td>\n",
       "      <td>1.0</td>\n",
       "      <td>4.0</td>\n",
       "      <td>0.750281</td>\n",
       "      <td>1.205057</td>\n",
       "      <td>1.237086</td>\n",
       "    </tr>\n",
       "    <tr>\n",
       "      <th>0</th>\n",
       "      <td>0.1</td>\n",
       "      <td>0.01</td>\n",
       "      <td>1.5</td>\n",
       "      <td>5.0</td>\n",
       "      <td>0.755731</td>\n",
       "      <td>1.212558</td>\n",
       "      <td>1.246362</td>\n",
       "    </tr>\n",
       "    <tr>\n",
       "      <th>1</th>\n",
       "      <td>0.5</td>\n",
       "      <td>0.01</td>\n",
       "      <td>1.0</td>\n",
       "      <td>4.0</td>\n",
       "      <td>0.783202</td>\n",
       "      <td>1.236442</td>\n",
       "      <td>1.290274</td>\n",
       "    </tr>\n",
       "  </tbody>\n",
       "</table>\n",
       "</div>"
      ],
      "text/plain": [
       "     C   EPS  COEF0  DEGREE       MAE       MSE       MEE\n",
       "4  5.0  0.01    0.5     4.0  0.695579  1.157205  1.150079\n",
       "3  2.0  0.01    0.5     4.0  0.740561  1.200557  1.222970\n",
       "2  1.0  0.01    1.0     4.0  0.750281  1.205057  1.237086\n",
       "0  0.1  0.01    1.5     5.0  0.755731  1.212558  1.246362\n",
       "1  0.5  0.01    1.0     4.0  0.783202  1.236442  1.290274"
      ]
     },
     "execution_count": 12,
     "metadata": {},
     "output_type": "execute_result"
    }
   ],
   "source": [
    "def run_gs_on_C_poly(kernel,C_list,epsilon_list,coeff_list,degree_list):\n",
    "    svr_model= SVR()\n",
    "    new_col = [\"C\",\"EPS\",\"COEF0\",\"DEGREE\",\"MAE\",\"MSE\",\"MEE\"]  \n",
    "    df_temp = pd.DataFrame(columns=new_col)\n",
    "\n",
    "    for c_val in C_list:\n",
    "        list = [c_val]\n",
    "        param_grid = {'estimator__kernel' : kernel,\n",
    "                    'estimator__C' : list,\n",
    "                    'estimator__epsilon': epsilon_list,\n",
    "                    'estimator__coef0': coeff_list,\n",
    "                    'estimator__degree': degree_list}\n",
    "\n",
    "        grid_search_poly = GridSearchCV(MultiOutputRegressor(svr_model), \n",
    "                                param_grid = param_grid,\n",
    "                                n_jobs=2,\n",
    "                                scoring=custom_mee_scorer,\n",
    "                                verbose=0)\n",
    "\n",
    "        grid_search_poly.fit(X_internal_tr, Y_internal_tr)\n",
    "        Y_pred_poly = grid_search_poly.predict(X_internal_tr)\n",
    "\n",
    "        best_C, best_coef0, best_degree,best_eps = extract_best_hp_poly(grid_search_poly)\n",
    "\n",
    "        mae,mse,mee = get_mae_mee_mse_from_gridsearch(grid_search_poly,Y=Y_internal_tr,Y_pred=Y_pred_poly)\n",
    "\n",
    "        new_res = [best_C,best_eps,best_coef0,best_degree,mae,mse,mee]\n",
    "        df_temp.loc[len(df_temp)] = new_res\n",
    "    \n",
    "    return df_temp\n",
    "\n",
    "\n",
    "#EXECUTION\n",
    "C_values_list=[0.1,0.5,1,2,5]\n",
    "epsilon_list=[0.01]\n",
    "coeff_list=[0.5,1.0,1.5]\n",
    "degree_list = [2,3,4,5]\n",
    "\n",
    "df_on_C_poly = run_gs_on_C_poly(kernel=['poly'],C_list=C_values_list, epsilon_list=epsilon_list,coeff_list=coeff_list,degree_list=degree_list)\n",
    "df_on_C_poly.sort_values(by=['MEE'])"
   ]
  },
  {
   "cell_type": "code",
   "execution_count": 13,
   "metadata": {},
   "outputs": [
    {
     "data": {
      "text/html": [
       "<div>\n",
       "<style scoped>\n",
       "    .dataframe tbody tr th:only-of-type {\n",
       "        vertical-align: middle;\n",
       "    }\n",
       "\n",
       "    .dataframe tbody tr th {\n",
       "        vertical-align: top;\n",
       "    }\n",
       "\n",
       "    .dataframe thead th {\n",
       "        text-align: right;\n",
       "    }\n",
       "</style>\n",
       "<table border=\"1\" class=\"dataframe\">\n",
       "  <thead>\n",
       "    <tr style=\"text-align: right;\">\n",
       "      <th></th>\n",
       "      <th>C</th>\n",
       "      <th>EPS</th>\n",
       "      <th>COEF0</th>\n",
       "      <th>DEGREE</th>\n",
       "      <th>MAE</th>\n",
       "      <th>MSE</th>\n",
       "      <th>MEE</th>\n",
       "    </tr>\n",
       "  </thead>\n",
       "  <tbody>\n",
       "    <tr>\n",
       "      <th>0</th>\n",
       "      <td>0.1</td>\n",
       "      <td>0.01</td>\n",
       "      <td>1.5</td>\n",
       "      <td>5.0</td>\n",
       "      <td>0.755731</td>\n",
       "      <td>1.212558</td>\n",
       "      <td>1.246362</td>\n",
       "    </tr>\n",
       "  </tbody>\n",
       "</table>\n",
       "</div>"
      ],
      "text/plain": [
       "     C   EPS  COEF0  DEGREE       MAE       MSE       MEE\n",
       "0  0.1  0.01    1.5     5.0  0.755731  1.212558  1.246362"
      ]
     },
     "execution_count": 13,
     "metadata": {},
     "output_type": "execute_result"
    },
    {
     "data": {
      "image/png": "[encoded data removed]",
      "text/plain": [
       "<Figure size 640x480 with 1 Axes>"
      ]
     },
     "metadata": {},
     "output_type": "display_data"
    }
   ],
   "source": [
    "ax = df_on_C_poly.plot(x='C', y='MEE', linestyle='--', title=\"Metrics wrt MEE,MAE,MSE\")\n",
    "df_on_C_poly.plot(ax=ax,x='C', y='MSE')\n",
    "df_on_C_poly.plot(ax=ax,x='C', y='MAE', linestyle='dotted')\n",
    "df_on_C_poly.sort_values(by=['C']).head(1)"
   ]
  },
  {
   "attachments": {},
   "cell_type": "markdown",
   "metadata": {},
   "source": [
    "# **<font color=#33ECFF> 3. Kernel 'Sigmoid' <br> &#x2022; PARAMS: C, gamma, epsilon, coef0<font>**"
   ]
  },
  {
   "cell_type": "code",
   "execution_count": 14,
   "metadata": {},
   "outputs": [
    {
     "name": "stdout",
     "output_type": "stream",
     "text": [
      "Best setting parameters:  {'estimator__C': 0.1, 'estimator__coef0': 2.0, 'estimator__epsilon': 0.001, 'estimator__gamma': 'auto', 'estimator__kernel': 'sigmoid'}\n",
      "Best SCORE di MEE:  -4.428738561652233\n",
      "\n",
      "MEDIO VALORE MEE su CV:  -7.102960010356881 \n",
      "Standard Deviation (std) of this setting:  0.12847136103246415\n"
     ]
    }
   ],
   "source": [
    "kernel=['sigmoid']\n",
    "C_list=[0.0001,0.001,0.01,0.1,1]\n",
    "gamma_list= [\"auto\", \"scale\"]\n",
    "epsilon_list=[0.001]\n",
    "coeff_list=[1.0,2.0,3.0]\n",
    "\n",
    "svr_model= SVR()\n",
    "param_grid = {'estimator__kernel' : kernel,\n",
    "            'estimator__C' : C_list,\n",
    "            'estimator__gamma' : gamma_list,\n",
    "            'estimator__epsilon': epsilon_list,\n",
    "            'estimator__coef0': coeff_list}\n",
    "\n",
    "grid_search_sig = GridSearchCV(MultiOutputRegressor(svr_model), \n",
    "                        param_grid = param_grid,\n",
    "                        n_jobs=2,\n",
    "                        scoring=custom_mee_scorer,\n",
    "                        verbose=0)\n",
    "\n",
    "grid_search_sig.fit(X_internal_tr, Y_internal_tr)\n",
    "Y_pred_sig = grid_search_sig.predict(X_internal_tr)\n",
    "\n",
    "print_stats_gs(grid_search=grid_search_sig)"
   ]
  },
  {
   "attachments": {},
   "cell_type": "markdown",
   "metadata": {},
   "source": [
    "## **<font color=#33ECFF> 3.1.1 - SIGMOID: <u>Results</u> HP e wrt <u>VALIDATION SET</u> by GridSearchCV</u></font>**"
   ]
  },
  {
   "cell_type": "code",
   "execution_count": 15,
   "metadata": {},
   "outputs": [
    {
     "name": "stdout",
     "output_type": "stream",
     "text": [
      "BEST HYPERPARAMETERS SETTINGS AND MEE in Validation:\n"
     ]
    },
    {
     "data": {
      "text/html": [
       "<div>\n",
       "<style scoped>\n",
       "    .dataframe tbody tr th:only-of-type {\n",
       "        vertical-align: middle;\n",
       "    }\n",
       "\n",
       "    .dataframe tbody tr th {\n",
       "        vertical-align: top;\n",
       "    }\n",
       "\n",
       "    .dataframe thead th {\n",
       "        text-align: right;\n",
       "    }\n",
       "</style>\n",
       "<table border=\"1\" class=\"dataframe\">\n",
       "  <thead>\n",
       "    <tr style=\"text-align: right;\">\n",
       "      <th></th>\n",
       "      <th>KERNEL</th>\n",
       "      <th>C</th>\n",
       "      <th>COEF0</th>\n",
       "      <th>EPS</th>\n",
       "      <th>GAMMA</th>\n",
       "      <th>BEST MEE</th>\n",
       "      <th>MEE_Validation</th>\n",
       "      <th>STD_Validation</th>\n",
       "    </tr>\n",
       "  </thead>\n",
       "  <tbody>\n",
       "    <tr>\n",
       "      <th>1</th>\n",
       "      <td>sig</td>\n",
       "      <td>0.1</td>\n",
       "      <td>2.0</td>\n",
       "      <td>0.001</td>\n",
       "      <td>auto</td>\n",
       "      <td>-4.428739</td>\n",
       "      <td>-7.10296</td>\n",
       "      <td>0.128471</td>\n",
       "    </tr>\n",
       "  </tbody>\n",
       "</table>\n",
       "</div>"
      ],
      "text/plain": [
       "  KERNEL    C  COEF0    EPS GAMMA  BEST MEE  MEE_Validation  STD_Validation\n",
       "1    sig  0.1    2.0  0.001  auto -4.428739        -7.10296        0.128471"
      ]
     },
     "execution_count": 15,
     "metadata": {},
     "output_type": "execute_result"
    }
   ],
   "source": [
    "col = [\"KERNEL\",\"C\",\"COEF0\",\"EPS\",\"GAMMA\",\"BEST MEE\",\"MEE_Validation\",\"STD_Validation\"]\n",
    "\n",
    "best_C, best_coef0, best_eps,best_gamma = extract_best_hp_sig(grid_search_sig)\n",
    "row = ['sig',best_C, best_coef0, best_eps, best_gamma,grid_search_sig.best_score_,grid_search_sig.cv_results_['mean_test_score'][0],grid_search_sig.cv_results_['std_test_score'][0]]\n",
    "  \n",
    "sig_df_best_res_validation = pd.DataFrame(columns=col)\n",
    "sig_df_best_res_validation.loc[len(rbf_df_best_res_validation)] = row\n",
    "\n",
    "print(\"BEST HYPERPARAMETERS SETTINGS AND MEE in Validation:\")\n",
    "sig_df_best_res_validation"
   ]
  },
  {
   "attachments": {},
   "cell_type": "markdown",
   "metadata": {},
   "source": [
    "## **<font color=#33ECFF> 3.1.2 - Sigmoid: Metrics wrt TRAINING SET</font>**"
   ]
  },
  {
   "cell_type": "code",
   "execution_count": 16,
   "metadata": {},
   "outputs": [
    {
     "data": {
      "text/html": [
       "<div>\n",
       "<style scoped>\n",
       "    .dataframe tbody tr th:only-of-type {\n",
       "        vertical-align: middle;\n",
       "    }\n",
       "\n",
       "    .dataframe tbody tr th {\n",
       "        vertical-align: top;\n",
       "    }\n",
       "\n",
       "    .dataframe thead th {\n",
       "        text-align: right;\n",
       "    }\n",
       "</style>\n",
       "<table border=\"1\" class=\"dataframe\">\n",
       "  <thead>\n",
       "    <tr style=\"text-align: right;\">\n",
       "      <th></th>\n",
       "      <th>C</th>\n",
       "      <th>COEF0</th>\n",
       "      <th>EPS</th>\n",
       "      <th>GAMMA</th>\n",
       "      <th>MAE</th>\n",
       "      <th>MSE</th>\n",
       "      <th>MEE</th>\n",
       "    </tr>\n",
       "  </thead>\n",
       "  <tbody>\n",
       "    <tr>\n",
       "      <th>0</th>\n",
       "      <td>0.1</td>\n",
       "      <td>2.0</td>\n",
       "      <td>0.001</td>\n",
       "      <td>auto</td>\n",
       "      <td>2.735638</td>\n",
       "      <td>3.563087</td>\n",
       "      <td>4.514993</td>\n",
       "    </tr>\n",
       "  </tbody>\n",
       "</table>\n",
       "</div>"
      ],
      "text/plain": [
       "     C  COEF0    EPS GAMMA       MAE       MSE       MEE\n",
       "0  0.1    2.0  0.001  auto  2.735638  3.563087  4.514993"
      ]
     },
     "execution_count": 16,
     "metadata": {},
     "output_type": "execute_result"
    }
   ],
   "source": [
    "def extract_best_hp_sig(grid_search):\n",
    "    array = []\n",
    "    values = grid_search.best_params_.values()\n",
    "    for v in values:\n",
    "        array.append(v)\n",
    "    best_C, best_coef0, best_eps, best_gamma  = array[0], array[1], array[2], array[3]\n",
    "    return best_C, best_coef0, best_eps, best_gamma\n",
    "\n",
    "\n",
    "best_C, best_coef0, best_eps, best_gamma = extract_best_hp_sig(grid_search_sig)\n",
    "mae,mse,mee = get_mae_mee_mse_from_gridsearch(grid_search_sig,Y=Y_internal_tr,Y_pred=Y_pred_sig)\n",
    "\n",
    "new_res = [best_C, best_coef0, best_eps, best_gamma,mae,mse,mee]\n",
    "new_col = [\"C\",\"COEF0\",\"EPS\",\"GAMMA\",\"MAE\",\"MSE\",\"MEE\"]\n",
    "    \n",
    "df_best_grid_sig = pd.DataFrame(columns=new_col)\n",
    "df_best_grid_sig.loc[len(df_best_grid_sig)] = new_res\n",
    "\n",
    "df_best_grid_sig"
   ]
  },
  {
   "attachments": {},
   "cell_type": "markdown",
   "metadata": {},
   "source": [
    "----------"
   ]
  },
  {
   "attachments": {},
   "cell_type": "markdown",
   "metadata": {},
   "source": [
    " # **<font color=#33ECFF> 2.2 SIGMOID Plot: Investigation when varying C on *training set* </font>**"
   ]
  },
  {
   "cell_type": "code",
   "execution_count": 17,
   "metadata": {},
   "outputs": [
    {
     "name": "stdout",
     "output_type": "stream",
     "text": [
      "ok\n"
     ]
    }
   ],
   "source": [
    "def run_gs_on_C_sig(kernel,C_list,epsilon_list,coeff_list):\n",
    "    svr_model= SVR()\n",
    "    new_col = [\"C\",\"COEF0\",\"EPS\",\"GAMMA\",\"MAE\",\"MSE\",\"MEE\"]\n",
    "    df_temp = pd.DataFrame(columns=new_col)\n",
    "\n",
    "    for c_val in C_list:\n",
    "        list = [c_val]\n",
    "        param_grid = {'estimator__kernel' : kernel,\n",
    "                'estimator__C' : list,\n",
    "                'estimator__gamma' : ('auto','scale'),\n",
    "                'estimator__epsilon': epsilon_list,\n",
    "                'estimator__coef0': coeff_list}\n",
    "\n",
    "        grid_search_sig = GridSearchCV(MultiOutputRegressor(svr_model), \n",
    "                                param_grid = param_grid, \n",
    "                                n_jobs=2,\n",
    "                                scoring=custom_mee_scorer,\n",
    "                                verbose=0)\n",
    "\n",
    "        grid_search_sig.fit(X_internal_tr, Y_internal_tr)\n",
    "        Y_pred_sig = grid_search_sig.predict(X_internal_tr)\n",
    "\n",
    "        best_C, best_coef0, best_eps, best_gamma = extract_best_hp_sig(grid_search_sig)\n",
    "        mae,mse,mee = get_mae_mee_mse_from_gridsearch(grid_search_sig,Y=Y_internal_tr,Y_pred=Y_pred_sig)\n",
    "        \n",
    "        new_res = [best_C, best_coef0, best_eps, best_gamma,mae,mse,mee]\n",
    "        df_temp.loc[len(df_temp)] = new_res\n",
    "    \n",
    "    print(\"ok\")\n",
    "    return df_temp\n",
    "\n",
    "\n",
    "#EXECUTION FUNCTION\n",
    "C_values_list = [0.00001,0.0001,0.001,0.01,0.1,1]\n",
    "gamma_list= [\"auto\", \"scale\"]\n",
    "epsilon_list=[0.001]\n",
    "coeff_list=[1.0,2.0,3.0]\n",
    "\n",
    "df_on_C_sig = run_gs_on_C_sig(kernel=[\"sigmoid\"],C_list=C_values_list, epsilon_list=epsilon_list,coeff_list=coeff_list)"
   ]
  },
  {
   "cell_type": "code",
   "execution_count": 18,
   "metadata": {},
   "outputs": [
    {
     "data": {
      "text/html": [
       "<div>\n",
       "<style scoped>\n",
       "    .dataframe tbody tr th:only-of-type {\n",
       "        vertical-align: middle;\n",
       "    }\n",
       "\n",
       "    .dataframe tbody tr th {\n",
       "        vertical-align: top;\n",
       "    }\n",
       "\n",
       "    .dataframe thead th {\n",
       "        text-align: right;\n",
       "    }\n",
       "</style>\n",
       "<table border=\"1\" class=\"dataframe\">\n",
       "  <thead>\n",
       "    <tr style=\"text-align: right;\">\n",
       "      <th></th>\n",
       "      <th>C</th>\n",
       "      <th>COEF0</th>\n",
       "      <th>EPS</th>\n",
       "      <th>GAMMA</th>\n",
       "      <th>MAE</th>\n",
       "      <th>MSE</th>\n",
       "      <th>MEE</th>\n",
       "    </tr>\n",
       "  </thead>\n",
       "  <tbody>\n",
       "    <tr>\n",
       "      <th>4</th>\n",
       "      <td>0.10000</td>\n",
       "      <td>2.0</td>\n",
       "      <td>0.001</td>\n",
       "      <td>auto</td>\n",
       "      <td>2.735638</td>\n",
       "      <td>3.563087</td>\n",
       "      <td>4.514993</td>\n",
       "    </tr>\n",
       "    <tr>\n",
       "      <th>3</th>\n",
       "      <td>0.01000</td>\n",
       "      <td>1.0</td>\n",
       "      <td>0.001</td>\n",
       "      <td>scale</td>\n",
       "      <td>2.792786</td>\n",
       "      <td>3.721787</td>\n",
       "      <td>4.628745</td>\n",
       "    </tr>\n",
       "    <tr>\n",
       "      <th>5</th>\n",
       "      <td>1.00000</td>\n",
       "      <td>3.0</td>\n",
       "      <td>0.001</td>\n",
       "      <td>auto</td>\n",
       "      <td>3.245656</td>\n",
       "      <td>4.053974</td>\n",
       "      <td>5.202266</td>\n",
       "    </tr>\n",
       "    <tr>\n",
       "      <th>2</th>\n",
       "      <td>0.00100</td>\n",
       "      <td>1.0</td>\n",
       "      <td>0.001</td>\n",
       "      <td>scale</td>\n",
       "      <td>4.190359</td>\n",
       "      <td>5.355859</td>\n",
       "      <td>6.822993</td>\n",
       "    </tr>\n",
       "    <tr>\n",
       "      <th>1</th>\n",
       "      <td>0.00010</td>\n",
       "      <td>1.0</td>\n",
       "      <td>0.001</td>\n",
       "      <td>scale</td>\n",
       "      <td>4.360757</td>\n",
       "      <td>5.564589</td>\n",
       "      <td>7.089646</td>\n",
       "    </tr>\n",
       "    <tr>\n",
       "      <th>0</th>\n",
       "      <td>0.00001</td>\n",
       "      <td>1.0</td>\n",
       "      <td>0.001</td>\n",
       "      <td>scale</td>\n",
       "      <td>4.378303</td>\n",
       "      <td>5.586233</td>\n",
       "      <td>7.116838</td>\n",
       "    </tr>\n",
       "  </tbody>\n",
       "</table>\n",
       "</div>"
      ],
      "text/plain": [
       "         C  COEF0    EPS  GAMMA       MAE       MSE       MEE\n",
       "4  0.10000    2.0  0.001   auto  2.735638  3.563087  4.514993\n",
       "3  0.01000    1.0  0.001  scale  2.792786  3.721787  4.628745\n",
       "5  1.00000    3.0  0.001   auto  3.245656  4.053974  5.202266\n",
       "2  0.00100    1.0  0.001  scale  4.190359  5.355859  6.822993\n",
       "1  0.00010    1.0  0.001  scale  4.360757  5.564589  7.089646\n",
       "0  0.00001    1.0  0.001  scale  4.378303  5.586233  7.116838"
      ]
     },
     "execution_count": 18,
     "metadata": {},
     "output_type": "execute_result"
    }
   ],
   "source": [
    "df_on_C_sig.sort_values(by=['MEE'])"
   ]
  },
  {
   "cell_type": "code",
   "execution_count": 19,
   "metadata": {},
   "outputs": [
    {
     "data": {
      "text/html": [
       "<div>\n",
       "<style scoped>\n",
       "    .dataframe tbody tr th:only-of-type {\n",
       "        vertical-align: middle;\n",
       "    }\n",
       "\n",
       "    .dataframe tbody tr th {\n",
       "        vertical-align: top;\n",
       "    }\n",
       "\n",
       "    .dataframe thead th {\n",
       "        text-align: right;\n",
       "    }\n",
       "</style>\n",
       "<table border=\"1\" class=\"dataframe\">\n",
       "  <thead>\n",
       "    <tr style=\"text-align: right;\">\n",
       "      <th></th>\n",
       "      <th>C</th>\n",
       "      <th>COEF0</th>\n",
       "      <th>EPS</th>\n",
       "      <th>GAMMA</th>\n",
       "      <th>MAE</th>\n",
       "      <th>MSE</th>\n",
       "      <th>MEE</th>\n",
       "    </tr>\n",
       "  </thead>\n",
       "  <tbody>\n",
       "    <tr>\n",
       "      <th>0</th>\n",
       "      <td>0.00001</td>\n",
       "      <td>1.0</td>\n",
       "      <td>0.001</td>\n",
       "      <td>scale</td>\n",
       "      <td>4.378303</td>\n",
       "      <td>5.586233</td>\n",
       "      <td>7.116838</td>\n",
       "    </tr>\n",
       "  </tbody>\n",
       "</table>\n",
       "</div>"
      ],
      "text/plain": [
       "         C  COEF0    EPS  GAMMA       MAE       MSE       MEE\n",
       "0  0.00001    1.0  0.001  scale  4.378303  5.586233  7.116838"
      ]
     },
     "execution_count": 19,
     "metadata": {},
     "output_type": "execute_result"
    },
    {
     "data": {
      "image/png": "[encoded data removed]",
      "text/plain": [
       "<Figure size 640x480 with 1 Axes>"
      ]
     },
     "metadata": {},
     "output_type": "display_data"
    }
   ],
   "source": [
    "ax = df_on_C_sig.plot(x='C', y='MEE', linestyle='--', title=\"Metrics wrt MEE,MAE,MSE\")\n",
    "df_on_C_sig.plot(ax=ax,x='C', y='MSE')\n",
    "df_on_C_sig.plot(ax=ax,x='C', y='MAE', linestyle='dotted')\n",
    "df_on_C_sig.sort_values(by=['C']).head(1)"
   ]
  }
 ],
 "metadata": {
  "kernelspec": {
   "display_name": "base",
   "language": "python",
   "name": "python3"
  },
  "language_info": {
   "codemirror_mode": {
    "name": "ipython",
    "version": 3
   },
   "file_extension": ".py",
   "mimetype": "text/x-python",
   "name": "python",
   "nbconvert_exporter": "python",
   "pygments_lexer": "ipython3",
   "version": "3.9.13"
  },
  "orig_nbformat": 4,
  "vscode": {
   "interpreter": {
    "hash": "cb9676d893df56be153a4cbaebc7bee49fb1f70c4e5a43af083c70ee3c22ca6b"
   }
  }
 },
 "nbformat": 4,
 "nbformat_minor": 2
}
