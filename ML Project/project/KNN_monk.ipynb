{
  "cells": [
    {
      "cell_type": "code",
      "execution_count": 1,
      "metadata": {
        "id": "r7JlhR0UKw-Y"
      },
      "outputs": [],
      "source": [
        "import pandas as pd\n",
        "import numpy as np\n",
        "\n",
        "from sklearn.pipeline import Pipeline\n",
        "from sklearn.preprocessing import StandardScaler\n",
        "from sklearn.preprocessing import MinMaxScaler\n",
        "from sklearn.model_selection import GridSearchCV\n",
        "from sklearn.neighbors import KNeighborsClassifier\n",
        "from sklearn.metrics import accuracy_score\n",
        "\n",
        "from matplotlib import pyplot as plt\n",
        "from sklearn.metrics import f1_score, roc_auc_score, roc_curve\n",
        "from sklearn.feature_selection import SelectKBest, chi2"
      ]
    },
    {
      "cell_type": "code",
      "execution_count": 2,
      "metadata": {
        "id": "ne4ON_b7K0ro"
      },
      "outputs": [],
      "source": [
        "# toglie la colonna id e monk_id e le prime righe di commenti\n",
        "def monk_create_df(path):\n",
        "    columns = [\"id\", \"output\", \"a1\", \"a2\", \"a3\", \"a4\", \"a5\", \"a6\", \"monk_id\"]\n",
        "    df = pd.read_csv(path, names=columns, delimiter=\" \")\n",
        "\n",
        "    df = df.drop('id', axis='columns') #droppiamo id\n",
        "    df = df.drop(\"monk_id\", axis='columns') #droppiamo id del dato monk\n",
        "    return df\n",
        "\n",
        "#MONK 1\n",
        "monk1_tr=monk_create_df(\"/content/monks-1.train\")\n",
        "monk1_ts=monk_create_df(\"/content/monks-1.test\")\n",
        "X_train_1 = monk1_tr.drop(columns=[\"output\"]) \n",
        "y_train_1 = monk1_tr[\"output\"]\n",
        "X_test_1 = monk1_ts.drop(columns=[\"output\"])\n",
        "y_test_1 = monk1_ts[\"output\"]\n",
        "\n",
        "#MONK2\n",
        "monk2_tr=monk_create_df(\"/content/monks-2.train\")\n",
        "monk2_ts=monk_create_df(\"/content/monks-2.test\")\n",
        "X_train_2 = monk2_tr.drop(columns=[\"output\"]) \n",
        "y_train_2 = monk2_tr[\"output\"]\n",
        "X_test_2 = monk2_ts.drop(columns=[\"output\"])\n",
        "y_test_2 = monk2_ts[\"output\"]\n",
        "\n",
        "#MONK3\n",
        "monk3_tr=monk_create_df(\"/content/monks-3.train\")\n",
        "monk3_ts=monk_create_df(\"/content/monks-3.test\")\n",
        "X_train_3 = monk3_tr.drop(columns=[\"output\"]) \n",
        "y_train_3 = monk3_tr[\"output\"]\n",
        "X_test_3 = monk3_ts.drop(columns=[\"output\"])\n",
        "y_test_3 = monk3_ts[\"output\"]\n"
      ]
    },
    {
      "cell_type": "code",
      "execution_count": 3,
      "metadata": {
        "colab": {
          "base_uri": "https://localhost:8080/"
        },
        "id": "C7_GpnOTLZ53",
        "outputId": "19ddef1a-7ad5-49a1-bcdb-730b1f26d049"
      },
      "outputs": [
        {
          "name": "stdout",
          "output_type": "stream",
          "text": [
            "Best parameters:  {'knn__metric': 'minkowski', 'knn__n_neighbors': 25, 'knn__p': 4, 'knn__weights': 'uniform', 'scaler': StandardScaler()}\n",
            "Best score accuracy:  0.7333333333333333\n",
            "Best score mse:  0.5253333333333333\n",
            "------------1-------------- None\n",
            "Best parameters:  {'knn__metric': 'euclidean', 'knn__n_neighbors': 4, 'knn__p': 2, 'knn__weights': 'distance', 'scaler': MinMaxScaler()}\n",
            "Best score accuracy:  0.6811051693404634\n",
            "Best score mse:  0.6450980392156863\n",
            "------------2-------------- None\n",
            "Best parameters:  {'knn__metric': 'manhattan', 'knn__n_neighbors': 20, 'knn__p': 2, 'knn__weights': 'distance', 'scaler': StandardScaler()}\n",
            "Best score accuracy:  0.8936666666666667\n",
            "Best score mse:  0.7776666666666666\n",
            "------------3-------------- None\n"
          ]
        }
      ],
      "source": [
        "def monk_knn(X_train, y_train, X_test, y_test):\n",
        "    pipe = Pipeline([\n",
        "        ('scaler', None),\n",
        "        ('knn', KNeighborsClassifier())\n",
        "                    ])\n",
        "    # specify the parameters for the grid search\n",
        "    param_grid = {'knn__n_neighbors': [1,2,3,4,5,10,15,20,21,22,23,24,25,30,40],\n",
        "                  'scaler': [StandardScaler(), MinMaxScaler()],\n",
        "                  'knn__weights': ['uniform', 'distance'],\n",
        "                  'knn__metric': ['euclidean', 'manhattan', 'minkowski'],\n",
        "                  'knn__p': [2, 3, 4]\n",
        "                  }\n",
        "    # create the grid search object\n",
        "    knn_gs = GridSearchCV(pipe, param_grid, cv=5, n_jobs=-1, refit=True, scoring='accuracy')\n",
        "\n",
        "    # fit the grid search to the data\n",
        "    knn_gs.fit(X_train, y_train.ravel()) # .ravel will convert that array shape to (n, ) (i.e. flatten it) \n",
        "  \n",
        "    #predict\n",
        "    y_pred = knn_gs.predict(X_test)\n",
        "\n",
        "    #print results\n",
        "    print(\"Best parameters: \", knn_gs.best_params_)\n",
        "    print(\"Best score accuracy: \", knn_gs.best_score_)\n",
        "    print(\"Best score mse: \", knn_gs.cv_results_['mean_test_score'][0])\n",
        "\n",
        "print(\"------------1--------------\", monk_knn(X_train_1, y_train_1, X_test_1, y_test_1))\n",
        "print(\"------------2--------------\", monk_knn(X_train_2, y_train_2, X_test_2, y_test_2))\n",
        "print(\"------------3--------------\", monk_knn( X_train_3, y_train_3, X_test_3, y_test_3))"
      ]
    }
  ],
  "metadata": {
    "colab": {
      "provenance": []
    },
    "kernelspec": {
      "display_name": "base",
      "language": "python",
      "name": "python3"
    },
    "language_info": {
      "codemirror_mode": {
        "name": "ipython",
        "version": 3
      },
      "file_extension": ".py",
      "mimetype": "text/x-python",
      "name": "python",
      "nbconvert_exporter": "python",
      "pygments_lexer": "ipython3",
      "version": "3.9.13 (main, Aug 25 2022, 18:24:45) \n[Clang 12.0.0 ]"
    },
    "vscode": {
      "interpreter": {
        "hash": "cb9676d893df56be153a4cbaebc7bee49fb1f70c4e5a43af083c70ee3c22ca6b"
      }
    }
  },
  "nbformat": 4,
  "nbformat_minor": 0
}
