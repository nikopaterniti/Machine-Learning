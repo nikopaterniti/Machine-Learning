{
 "cells": [
  {
   "attachments": {},
   "cell_type": "markdown",
   "metadata": {},
   "source": [
    "# **<font color=red> &#x2022;<u>TASK</u>: monk - **SVM**: *svc* - version with *grid_search*  </font>** <br>\n",
    "## TRAINING SET:"
   ]
  },
  {
   "attachments": {},
   "cell_type": "markdown",
   "metadata": {},
   "source": [
    "initialization of monk utlities:"
   ]
  },
  {
   "cell_type": "code",
   "execution_count": 36,
   "metadata": {},
   "outputs": [],
   "source": [
    "import pandas as pd\n",
    "from sklearn.metrics import mean_absolute_error, mean_squared_error\n",
    "from sklearn.metrics import accuracy_score\n",
    "from sklearn.model_selection import train_test_split\n",
    "from sklearn.model_selection import GridSearchCV, RandomizedSearchCV\n",
    "from sklearn.metrics import classification_report, make_scorer\n",
    "from sklearn.svm import SVC\n",
    "from sklearn.pipeline import Pipeline\n",
    "from sklearn.preprocessing import StandardScaler\n",
    "import numpy as np\n",
    "from numpy.linalg import norm\n",
    "import math\n",
    "import matplotlib.pyplot as plt\n",
    "\n",
    "from utils_svm import * #custom module , funziona con 3.9.xx\n",
    "\n",
    "#-----------\n",
    "##QUI UTILIZZIAMO L'ACCURACY COME SCORE\n",
    "\n",
    "#custom_mee_scorer = make_scorer(MEE,greater_is_better=True)\n",
    "\n",
    "labels_name = [\"1\", \"0\"] #label output "
   ]
  },
  {
   "attachments": {},
   "cell_type": "markdown",
   "metadata": {},
   "source": [
    "fine init monk df utilities"
   ]
  },
  {
   "attachments": {},
   "cell_type": "markdown",
   "metadata": {},
   "source": [
    "------"
   ]
  },
  {
   "attachments": {},
   "cell_type": "markdown",
   "metadata": {},
   "source": [
    "## **<font color=violet> 1. Kernel and parameters definitions </font>**\n",
    "USIAMO GLI STESSI PARAMETRI SIA SUI MONK CHE SULLA CUP"
   ]
  },
  {
   "cell_type": "code",
   "execution_count": 37,
   "metadata": {},
   "outputs": [],
   "source": [
    "rbf_kernel=['rbf']\n",
    "rbf_C_list=[0.1,1,10,100,1000] \n",
    "rbf_gamma_list= [\"auto\", \"scale\"]\n",
    "rbf_epsilon_list=[0.001] \n",
    "\n",
    "rbf_param_grid = {'kernel' : rbf_kernel,\n",
    "            'C' : rbf_C_list,\n",
    "            'gamma' : rbf_gamma_list}\n",
    "            #'epsilon': rbf_epsilon_list}\n",
    "\n",
    "#------------------------------------------------------------------------------------------------------------------------------------------------------------------------------------------\n",
    "\n",
    "poly_kernel=['poly']\n",
    "poly_C_list=[0.1,0.5,1,2,5] \n",
    "poly_epsilon_list=[0.01]\n",
    "poly_coeff_list=[0.5,1.0,1.5]\n",
    "poly_degree_list = [2,3,4,5]\n",
    "\n",
    "poly_param_grid = {'kernel' : poly_kernel,\n",
    "            'C' : poly_C_list,\n",
    "            #'epsilon': poly_epsilon_list,\n",
    "            'coef0': poly_coeff_list,\n",
    "            'degree': poly_degree_list}\n",
    "\n",
    "#------------------------------------------------------------------------------------------------------------------------------------------------------------------------------------------\n",
    "\n",
    "sig_kernel=['sigmoid']\n",
    "sig_C_list=[0.0001,0.001,0.01,0.1,1] \n",
    "sig_gamma_list= [\"auto\", \"scale\"]\n",
    "sig_epsilon_list=[0.001]\n",
    "sig_coeff_list=[1.0,2.0,3.0]\n",
    "\n",
    "\n",
    "sig_param_grid = {'kernel' : sig_kernel,\n",
    "            'C' : sig_C_list,\n",
    "            'gamma' : sig_gamma_list,\n",
    "            #'epsilon': sig_epsilon_list,\n",
    "            'coef0': sig_coeff_list}\n"
   ]
  },
  {
   "cell_type": "code",
   "execution_count": 38,
   "metadata": {},
   "outputs": [],
   "source": [
    "def monk_train_gridsearch_bykernel(X_train, y_train, param_grid_by_kernel, prints=None):\n",
    "\n",
    "    param_dist = param_grid_by_kernel\n",
    "    clf = SVC()\n",
    "\n",
    "    grid_search = GridSearchCV(clf, \n",
    "                            param_grid=param_dist,\n",
    "                            n_jobs=12, \n",
    "                            scoring='accuracy', \n",
    "                            verbose=0)\n",
    "  \n",
    "    grid_search.fit(X_train, y_train)\n",
    "\n",
    "    if(prints):\n",
    "        print('Best score on validation set',grid_search.best_score_,)\n",
    "        print('Best parameters\\n', grid_search.cv_results_['params'][0],\"; MEE Mean =\", grid_search.cv_results_['mean_test_score'][0], \"; STD =\",grid_search.cv_results_['std_test_score'][0])\n",
    "    \n",
    "    accuracy_Validation = grid_search.cv_results_['mean_test_score'][0]\n",
    "\n",
    "    return grid_search,accuracy_Validation\n",
    "\n",
    "\n",
    "def monk_predict_get_metrics_from_gs(X_train,y_train,grid_search_bykernel, X_test,Y_test, test=False):\n",
    "    dict_metrics = {'accuracy':[],'mae':[],'mse':[],'mee':[]}\n",
    "\n",
    "    #predict sull'input set del train set\n",
    "    if(test==False):\n",
    "        y_pred = grid_search_bykernel.predict(X_train)\n",
    "        y_true = y_train\n",
    "    else:\n",
    "        y_pred = grid_search_bykernel.predict(X_test)\n",
    "        y_true = Y_test\n",
    "\n",
    "    accuracy = accuracy_score(y_true=y_true,y_pred=y_pred)\n",
    "    mae, mee, mse = get_mae_mee_mse_from_gridsearch(grid_search=grid_search_bykernel,Y_true=y_true,Y_pred=y_pred)\n",
    "    \n",
    "    dict_metrics[\"accuracy\"].append(accuracy)\n",
    "    dict_metrics[\"mae\"].append(mae)\n",
    "    dict_metrics[\"mse\"].append(mse)\n",
    "    dict_metrics[\"mee\"].append(mee)\n",
    "    \n",
    "    return dict_metrics\n",
    "  \n",
    "def create_Xy_sets_by_n(monk_n):   \n",
    "    df_train = monk_create_df(monk_n)\n",
    "    df_test = monk_create_df(monk_n, train=False)\n",
    "\n",
    "    X_train = df_train.drop(columns=['output'])\n",
    "    y_train = df_train[\"output\"]\n",
    "\n",
    "    X_test = df_test.drop(columns=['output'])\n",
    "    y_test = df_test['output']                \n",
    "    return X_train,y_train,X_test,y_test\n"
   ]
  },
  {
   "attachments": {},
   "cell_type": "markdown",
   "metadata": {},
   "source": [
    "# **<font color=violet> 2. ESECUZIONE SVM-GRID_SEARCH SUI 3 MONK </font>** <br> "
   ]
  },
  {
   "cell_type": "code",
   "execution_count": 39,
   "metadata": {},
   "outputs": [],
   "source": [
    "def monk_gets_df_with_metrics_results(kernel,param_grid_by_kernel,upper_bound_monk=3, test=None):\n",
    "    print(\"Metrics on monk for kernel: \",kernel)\n",
    "    scores = []\n",
    "    monk_n_list = []\n",
    "    for i in range(1,(upper_bound_monk+1)):\n",
    "        print(\"monk \"+str(i)+\":\")\n",
    "        monk_n_list.append(i)\n",
    "\n",
    "        X_train,y_train,X_test,y_test = create_Xy_sets_by_n(i)\n",
    "        \n",
    "        grid_search,accuracy_validation = monk_train_gridsearch_bykernel(X_train=X_train,y_train=y_train, param_grid_by_kernel=param_grid_by_kernel, prints=True)\n",
    "        metrics = monk_predict_get_metrics_from_gs(X_train=X_train,y_train=y_train,X_test=X_test,Y_test=y_test,grid_search_bykernel=grid_search)\n",
    "        scores.append(metrics)\n",
    "\n",
    "        print(\"\\n\")\n",
    "\n",
    "    df = pd.DataFrame(scores)\n",
    "    df.insert(0, \"monk\", monk_n_list, True)\n",
    "    df['accuracy'] = df['accuracy'].str[0].astype(float)\n",
    "    df['mae'] = df['mae'].str[0].astype(float)\n",
    "    df['mse'] = df['mse'].str[0].astype(float)\n",
    "    df['mee'] = df['mee'].str[0].astype(float)\n",
    "    df\n",
    "\n",
    "    \n",
    "    return df,grid_search,accuracy_validation"
   ]
  },
  {
   "attachments": {},
   "cell_type": "markdown",
   "metadata": {},
   "source": [
    "## **<font color=violet> 2.1 RESULTS </font>** <br> "
   ]
  },
  {
   "attachments": {},
   "cell_type": "markdown",
   "metadata": {},
   "source": [
    "### 2.1.1 RBF KERNEL:"
   ]
  },
  {
   "cell_type": "code",
   "execution_count": 40,
   "metadata": {},
   "outputs": [
    {
     "name": "stdout",
     "output_type": "stream",
     "text": [
      "Metrics on monk for kernel:  ['rbf']\n",
      "monk 1:\n",
      "Best score on validation set 0.7803333333333333\n",
      "Best parameters\n",
      " {'C': 0.1, 'gamma': 'auto', 'kernel': 'rbf'} ; MEE Mean = 0.45066666666666666 ; STD = 0.058666666666666666\n",
      "\n",
      "\n",
      "monk 2:\n",
      "Best score on validation set 0.7044563279857398\n",
      "Best parameters\n",
      " {'C': 0.1, 'gamma': 'auto', 'kernel': 'rbf'} ; MEE Mean = 0.6213903743315508 ; STD = 0.007486631016042766\n",
      "\n",
      "\n",
      "monk 3:\n",
      "Best score on validation set 0.9339999999999999\n",
      "Best parameters\n",
      " {'C': 0.1, 'gamma': 'auto', 'kernel': 'rbf'} ; MEE Mean = 0.508 ; STD = 0.009797958971132722\n",
      "\n",
      "\n",
      "Metrics results on training set:\n"
     ]
    },
    {
     "data": {
      "text/html": [
       "<div>\n",
       "<style scoped>\n",
       "    .dataframe tbody tr th:only-of-type {\n",
       "        vertical-align: middle;\n",
       "    }\n",
       "\n",
       "    .dataframe tbody tr th {\n",
       "        vertical-align: top;\n",
       "    }\n",
       "\n",
       "    .dataframe thead th {\n",
       "        text-align: right;\n",
       "    }\n",
       "</style>\n",
       "<table border=\"1\" class=\"dataframe\">\n",
       "  <thead>\n",
       "    <tr style=\"text-align: right;\">\n",
       "      <th></th>\n",
       "      <th>monk</th>\n",
       "      <th>accuracy</th>\n",
       "      <th>mae</th>\n",
       "      <th>mse</th>\n",
       "      <th>mee</th>\n",
       "    </tr>\n",
       "  </thead>\n",
       "  <tbody>\n",
       "    <tr>\n",
       "      <th>0</th>\n",
       "      <td>1</td>\n",
       "      <td>1.000000</td>\n",
       "      <td>0.000000</td>\n",
       "      <td>0.000000</td>\n",
       "      <td>0.000000</td>\n",
       "    </tr>\n",
       "    <tr>\n",
       "      <th>1</th>\n",
       "      <td>2</td>\n",
       "      <td>1.000000</td>\n",
       "      <td>0.000000</td>\n",
       "      <td>0.000000</td>\n",
       "      <td>0.000000</td>\n",
       "    </tr>\n",
       "    <tr>\n",
       "      <th>2</th>\n",
       "      <td>3</td>\n",
       "      <td>0.934426</td>\n",
       "      <td>0.065574</td>\n",
       "      <td>0.065574</td>\n",
       "      <td>0.256074</td>\n",
       "    </tr>\n",
       "  </tbody>\n",
       "</table>\n",
       "</div>"
      ],
      "text/plain": [
       "   monk  accuracy       mae       mse       mee\n",
       "0     1  1.000000  0.000000  0.000000  0.000000\n",
       "1     2  1.000000  0.000000  0.000000  0.000000\n",
       "2     3  0.934426  0.065574  0.065574  0.256074"
      ]
     },
     "execution_count": 40,
     "metadata": {},
     "output_type": "execute_result"
    }
   ],
   "source": [
    "df_results_rbf,rbf_grid_search,accuracy_validation_rbf = monk_gets_df_with_metrics_results(kernel=rbf_kernel,param_grid_by_kernel=rbf_param_grid)\n",
    "\n",
    "print(\"Metrics results on training set:\")\n",
    "df_results_rbf"
   ]
  },
  {
   "attachments": {},
   "cell_type": "markdown",
   "metadata": {},
   "source": [
    "### 2.1.2 POLY KERNEL:"
   ]
  },
  {
   "cell_type": "code",
   "execution_count": 41,
   "metadata": {},
   "outputs": [
    {
     "name": "stdout",
     "output_type": "stream",
     "text": [
      "Metrics on monk for kernel:  ['poly']\n",
      "monk 1:\n",
      "Best score on validation set 0.7963333333333333\n",
      "Best parameters\n",
      " {'C': 0.1, 'coef0': 0.5, 'degree': 2, 'kernel': 'poly'} ; MEE Mean = 0.6206666666666667 ; STD = 0.11844173438634056\n",
      "\n",
      "\n",
      "monk 2:\n",
      "Best score on validation set 0.7042780748663102\n",
      "Best parameters\n",
      " {'C': 0.1, 'coef0': 0.5, 'degree': 2, 'kernel': 'poly'} ; MEE Mean = 0.6213903743315508 ; STD = 0.007486631016042766\n",
      "\n",
      "\n",
      "monk 3:\n",
      "Best score on validation set 0.9339999999999999\n",
      "Best parameters\n",
      " {'C': 0.1, 'coef0': 0.5, 'degree': 2, 'kernel': 'poly'} ; MEE Mean = 0.9179999999999999 ; STD = 0.05707110574635042\n",
      "\n",
      "\n",
      "Metrics results on training set:\n"
     ]
    },
    {
     "data": {
      "text/html": [
       "<div>\n",
       "<style scoped>\n",
       "    .dataframe tbody tr th:only-of-type {\n",
       "        vertical-align: middle;\n",
       "    }\n",
       "\n",
       "    .dataframe tbody tr th {\n",
       "        vertical-align: top;\n",
       "    }\n",
       "\n",
       "    .dataframe thead th {\n",
       "        text-align: right;\n",
       "    }\n",
       "</style>\n",
       "<table border=\"1\" class=\"dataframe\">\n",
       "  <thead>\n",
       "    <tr style=\"text-align: right;\">\n",
       "      <th></th>\n",
       "      <th>monk</th>\n",
       "      <th>accuracy</th>\n",
       "      <th>mae</th>\n",
       "      <th>mse</th>\n",
       "      <th>mee</th>\n",
       "    </tr>\n",
       "  </thead>\n",
       "  <tbody>\n",
       "    <tr>\n",
       "      <th>0</th>\n",
       "      <td>1</td>\n",
       "      <td>1.000000</td>\n",
       "      <td>0.000000</td>\n",
       "      <td>0.000000</td>\n",
       "      <td>0.000000</td>\n",
       "    </tr>\n",
       "    <tr>\n",
       "      <th>1</th>\n",
       "      <td>2</td>\n",
       "      <td>1.000000</td>\n",
       "      <td>0.000000</td>\n",
       "      <td>0.000000</td>\n",
       "      <td>0.000000</td>\n",
       "    </tr>\n",
       "    <tr>\n",
       "      <th>2</th>\n",
       "      <td>3</td>\n",
       "      <td>0.934426</td>\n",
       "      <td>0.065574</td>\n",
       "      <td>0.065574</td>\n",
       "      <td>0.256074</td>\n",
       "    </tr>\n",
       "  </tbody>\n",
       "</table>\n",
       "</div>"
      ],
      "text/plain": [
       "   monk  accuracy       mae       mse       mee\n",
       "0     1  1.000000  0.000000  0.000000  0.000000\n",
       "1     2  1.000000  0.000000  0.000000  0.000000\n",
       "2     3  0.934426  0.065574  0.065574  0.256074"
      ]
     },
     "execution_count": 41,
     "metadata": {},
     "output_type": "execute_result"
    }
   ],
   "source": [
    "df_results_poly,poly_grid_search,accuracy_validation_poly = monk_gets_df_with_metrics_results(kernel=poly_kernel,param_grid_by_kernel=poly_param_grid)\n",
    "\n",
    "print(\"Metrics results on training set:\")\n",
    "df_results_poly"
   ]
  },
  {
   "attachments": {},
   "cell_type": "markdown",
   "metadata": {},
   "source": [
    "### 2.1.3 SIGMOID KERNEL:"
   ]
  },
  {
   "cell_type": "code",
   "execution_count": 42,
   "metadata": {},
   "outputs": [
    {
     "name": "stdout",
     "output_type": "stream",
     "text": [
      "Metrics on monk for kernel:  ['sigmoid']\n",
      "monk 1:\n",
      "Best score on validation set 0.5643333333333334\n",
      "Best parameters\n",
      " {'C': 0.0001, 'coef0': 1.0, 'gamma': 'auto', 'kernel': 'sigmoid'} ; MEE Mean = 0.45066666666666666 ; STD = 0.058666666666666666\n",
      "\n",
      "\n",
      "monk 2:\n",
      "Best score on validation set 0.6213903743315508\n",
      "Best parameters\n",
      " {'C': 0.0001, 'coef0': 1.0, 'gamma': 'auto', 'kernel': 'sigmoid'} ; MEE Mean = 0.6213903743315508 ; STD = 0.007486631016042766\n",
      "\n",
      "\n",
      "monk 3:\n",
      "Best score on validation set 0.845\n",
      "Best parameters\n",
      " {'C': 0.0001, 'coef0': 1.0, 'gamma': 'auto', 'kernel': 'sigmoid'} ; MEE Mean = 0.508 ; STD = 0.009797958971132722\n",
      "\n",
      "\n",
      "Metrics results on training set:\n"
     ]
    },
    {
     "data": {
      "text/html": [
       "<div>\n",
       "<style scoped>\n",
       "    .dataframe tbody tr th:only-of-type {\n",
       "        vertical-align: middle;\n",
       "    }\n",
       "\n",
       "    .dataframe tbody tr th {\n",
       "        vertical-align: top;\n",
       "    }\n",
       "\n",
       "    .dataframe thead th {\n",
       "        text-align: right;\n",
       "    }\n",
       "</style>\n",
       "<table border=\"1\" class=\"dataframe\">\n",
       "  <thead>\n",
       "    <tr style=\"text-align: right;\">\n",
       "      <th></th>\n",
       "      <th>monk</th>\n",
       "      <th>accuracy</th>\n",
       "      <th>mae</th>\n",
       "      <th>mse</th>\n",
       "      <th>mee</th>\n",
       "    </tr>\n",
       "  </thead>\n",
       "  <tbody>\n",
       "    <tr>\n",
       "      <th>0</th>\n",
       "      <td>1</td>\n",
       "      <td>0.701613</td>\n",
       "      <td>0.298387</td>\n",
       "      <td>0.298387</td>\n",
       "      <td>0.546248</td>\n",
       "    </tr>\n",
       "    <tr>\n",
       "      <th>1</th>\n",
       "      <td>2</td>\n",
       "      <td>0.621302</td>\n",
       "      <td>0.378698</td>\n",
       "      <td>0.378698</td>\n",
       "      <td>0.615385</td>\n",
       "    </tr>\n",
       "    <tr>\n",
       "      <th>2</th>\n",
       "      <td>3</td>\n",
       "      <td>0.811475</td>\n",
       "      <td>0.188525</td>\n",
       "      <td>0.188525</td>\n",
       "      <td>0.434194</td>\n",
       "    </tr>\n",
       "  </tbody>\n",
       "</table>\n",
       "</div>"
      ],
      "text/plain": [
       "   monk  accuracy       mae       mse       mee\n",
       "0     1  0.701613  0.298387  0.298387  0.546248\n",
       "1     2  0.621302  0.378698  0.378698  0.615385\n",
       "2     3  0.811475  0.188525  0.188525  0.434194"
      ]
     },
     "execution_count": 42,
     "metadata": {},
     "output_type": "execute_result"
    }
   ],
   "source": [
    "df_results_sig,sig_grid_search,accuracy_validation_sig = monk_gets_df_with_metrics_results(kernel=sig_kernel,param_grid_by_kernel=sig_param_grid)\n",
    "\n",
    "print(\"Metrics results on training set:\")\n",
    "df_results_sig"
   ]
  },
  {
   "attachments": {},
   "cell_type": "markdown",
   "metadata": {},
   "source": [
    "## Investigation: **PLOT COMPARISON**"
   ]
  },
  {
   "cell_type": "code",
   "execution_count": 43,
   "metadata": {},
   "outputs": [
    {
     "data": {
      "image/png": "[encoded data removed]",
      "text/plain": [
       "<Figure size 640x480 with 1 Axes>"
      ]
     },
     "metadata": {},
     "output_type": "display_data"
    }
   ],
   "source": [
    "ax = df_results_sig.plot(x='monk', y='accuracy', linestyle='--', title=\"MEE results for Kernel wrt each monk\",xticks=[1,2,3],label=\"mee on sig\")\n",
    "\n",
    "df_results_poly.plot(ax=ax,x='monk', y='accuracy' , linestyle='dotted' , label=\"mee on poly\")\n",
    "df_results_rbf.plot(ax=ax,x='monk', y='accuracy' , linestyle='solid' , label=\"mee on rbf\")\n",
    "\n",
    "plt.show()"
   ]
  },
  {
   "attachments": {},
   "cell_type": "markdown",
   "metadata": {},
   "source": [
    "# 3. MONK Model Assessment - EXPERIMENTS RESULTS:"
   ]
  },
  {
   "cell_type": "code",
   "execution_count": 44,
   "metadata": {},
   "outputs": [],
   "source": [
    "def monk_gets_df_metrics_testset(grid_search_bykernel,upper_bound_monk=3):\n",
    "    scores = []\n",
    "    monk_n_list = []\n",
    "    for i in range(1,(upper_bound_monk+1)):\n",
    "        #print(\"monk \"+str(i)+\":\")\n",
    "        monk_n_list.append(i)\n",
    "\n",
    "        X_train,y_train,X_test,y_test = create_Xy_sets_by_n(i)\n",
    "        metrics = monk_predict_get_metrics_from_gs(X_train=X_train,y_train=y_train,grid_search_bykernel=grid_search_bykernel,Y_test=y_test,X_test=X_test,test=True)\n",
    "        scores.append(metrics)\n",
    "\n",
    "        df = pd.DataFrame(scores)\n",
    "        df.insert(0, \"monk\", monk_n_list, True)\n",
    "        df['accuracy'] = df['accuracy'].str[0].astype(float)\n",
    "        df['mae'] = df['mae'].str[0].astype(float)\n",
    "        df['mse'] = df['mse'].str[0].astype(float)\n",
    "        df['mee'] = df['mee'].str[0].astype(float)\n",
    "        df\n",
    "    \n",
    "    return df\n",
    "\n",
    "testset_df_rbf = monk_gets_df_metrics_testset(rbf_grid_search)\n",
    "testset_df_poly = monk_gets_df_metrics_testset(poly_grid_search)\n",
    "testset_df_sig = monk_gets_df_metrics_testset(sig_grid_search)"
   ]
  },
  {
   "cell_type": "code",
   "execution_count": 47,
   "metadata": {},
   "outputs": [
    {
     "name": "stdout",
     "output_type": "stream",
     "text": [
      "rbf results:\n",
      "   monk  accuracy       mae       mse       mee\n",
      "0     1  0.555556  0.444444  0.444444  0.666667\n",
      "1     2  0.476852  0.523148  0.523148  0.723290\n",
      "2     3  0.972222  0.027778  0.027778  0.166667\n",
      "\n",
      "poly results\n",
      "   monk  accuracy       mae       mse       mee\n",
      "0     1  0.555556  0.444444  0.444444  0.666667\n",
      "1     2  0.476852  0.523148  0.523148  0.723290\n",
      "2     3  0.972222  0.027778  0.027778  0.166667\n",
      "\n",
      "sigmoid results\n",
      "   monk  accuracy       mae       mse       mee\n",
      "0     1  0.525463  0.474537  0.474537  0.688866\n",
      "1     2  0.442130  0.557870  0.557870  0.746907\n",
      "2     3  0.858796  0.141204  0.141204  0.375771\n"
     ]
    }
   ],
   "source": [
    "print(\"rbf results:\")\n",
    "print(testset_df_rbf)\n",
    "print('\\npoly results')\n",
    "print(testset_df_poly)\n",
    "print('\\nsigmoid results')\n",
    "print(testset_df_sig)"
   ]
  },
  {
   "attachments": {},
   "cell_type": "markdown",
   "metadata": {},
   "source": [
    "----"
   ]
  },
  {
   "attachments": {},
   "cell_type": "markdown",
   "metadata": {},
   "source": [
    "---"
   ]
  }
 ],
 "metadata": {
  "kernelspec": {
   "display_name": "base",
   "language": "python",
   "name": "python3"
  },
  "language_info": {
   "codemirror_mode": {
    "name": "ipython",
    "version": 3
   },
   "file_extension": ".py",
   "mimetype": "text/x-python",
   "name": "python",
   "nbconvert_exporter": "python",
   "pygments_lexer": "ipython3",
   "version": "3.9.13 (main, Aug 25 2022, 18:24:45) \n[Clang 12.0.0 ]"
  },
  "orig_nbformat": 4,
  "vscode": {
   "interpreter": {
    "hash": "cb9676d893df56be153a4cbaebc7bee49fb1f70c4e5a43af083c70ee3c22ca6b"
   }
  }
 },
 "nbformat": 4,
 "nbformat_minor": 2
}
